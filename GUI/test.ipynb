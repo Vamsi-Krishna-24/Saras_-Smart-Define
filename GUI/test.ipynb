{
 "cells": [
  {
   "cell_type": "code",
   "execution_count": null,
   "metadata": {},
   "outputs": [],
   "source": [
    "from PyQt6.QtWidgets import QApplication, QLabel, QWidget, QVBoxLayout, QFrame\n",
    "from PyQt6.QtGui import QFont, QFontDatabase\n",
    "from PyQt6.QtCore import Qt\n",
    "import sys\n",
    "\n",
    "app = QApplication(sys.argv)\n",
    "window = QWidget()\n",
    "window.setWindowTitle(\"SARAS product by ENGIN.E\")\n",
    "window.resize(400,350)\n",
    "window.setStyleSheet(\"background-color:hsl(0, 0.00%, 0.00%)\")\n",
    "\n"
   ]
  },
  {
   "cell_type": "code",
   "execution_count": null,
   "metadata": {},
   "outputs": [
    {
     "ename": "TypeError",
     "evalue": "setStyleSheet(self, styleSheet: Optional[str]): not enough arguments",
     "output_type": "error",
     "traceback": [
      "\u001b[0;31m---------------------------------------------------------------------------\u001b[0m",
      "\u001b[0;31mTypeError\u001b[0m                                 Traceback (most recent call last)",
      "Cell \u001b[0;32mIn[1], line 11\u001b[0m\n\u001b[1;32m      9\u001b[0m main_layout\u001b[38;5;241m.\u001b[39msetContentsMargins(\u001b[38;5;241m10\u001b[39m,\u001b[38;5;241m10\u001b[39m,\u001b[38;5;241m10\u001b[39m,\u001b[38;5;241m10\u001b[39m)\n\u001b[1;32m     10\u001b[0m main_layout\u001b[38;5;241m.\u001b[39msetSpacing(\u001b[38;5;241m5\u001b[39m)\n\u001b[0;32m---> 11\u001b[0m \u001b[43mwidget\u001b[49m\u001b[38;5;241;43m.\u001b[39;49m\u001b[43msetStyleSheet\u001b[49m\u001b[43m(\u001b[49m\u001b[43m)\u001b[49m\n\u001b[1;32m     14\u001b[0m title \u001b[38;5;241m=\u001b[39m QLabel(\u001b[38;5;124m\"\u001b[39m\u001b[38;5;124mMeaning\u001b[39m\u001b[38;5;124m\"\u001b[39m)\n\u001b[1;32m     15\u001b[0m title\u001b[38;5;241m.\u001b[39msetAlignment(Qt\u001b[38;5;241m.\u001b[39mAlignmentFlag\u001b[38;5;241m.\u001b[39mAlignTop \u001b[38;5;129;01mand\u001b[39;00m Qt\u001b[38;5;241m.\u001b[39mAlignmentFlag\u001b[38;5;241m.\u001b[39mAlignLeft)\n",
      "\u001b[0;31mTypeError\u001b[0m: setStyleSheet(self, styleSheet: Optional[str]): not enough arguments"
     ]
    }
   ],
   "source": [
    "from PyQt6.QtWidgets import QWidget, QLabel, QApplication, QVBoxLayout, QFrame, QSpacerItem, QSizePolicy, QColorDialog\n",
    "from PyQt6.QtGui import QFont, QFontDatabase\n",
    "from PyQt6.QtCore import Qt\n",
    "import sys\n",
    "\n",
    "app = QApplication(sys.argv)\n",
    "widget = QWidget()\n",
    "main_layout = QVBoxLayout()\n",
    "main_layout.setContentsMargins(10,10,10,10)\n",
    "main_layout.setSpacing(5)\n",
    "\n",
    "title = QLabel(\"Meaning\")\n",
    "title.setAlignment(Qt.AlignmentFlag.AlignTop and Qt.AlignmentFlag.AlignLeft)\n",
    "title.setFont(QFont(\"Georgia\",14))\n",
    "main_layout.addWidget(title)\n",
    "\n",
    "\n",
    "Dict= QLabel(\"Dict\")\n",
    "Dict.setAlignment(Qt.AlignmentFlag.AlignTop and Qt.AlignmentFlag.AlignLeft)\n",
    "Dict.setFont(QFont(\"Georgia\",14))\n",
    "main_layout.addWidget(Dict)\n",
    "\n",
    "\n",
    "Line = QFrame()\n",
    "Line.setFrameShape(QFrame.Shape.HLine)\n",
    "Line.setFrameShadow(QFrame.Shadow.Sunken)\n",
    "main_layout.addWidget(Line)\n",
    "\n",
    "widget.setWindowOpacity(0.9)\n",
    "\n",
    "widget.setLayout(main_layout)\n",
    "widget.setWindowTitle(\"SARAS   Product of Engin\")\n",
    "widget.resize(400,300)\n",
    "widget.show()\n",
    "sys.exit(app.exec())"
   ]
  },
  {
   "cell_type": "code",
   "execution_count": null,
   "metadata": {},
   "outputs": [],
   "source": []
  }
 ],
 "metadata": {
  "kernelspec": {
   "display_name": ".venv",
   "language": "python",
   "name": "python3"
  },
  "language_info": {
   "codemirror_mode": {
    "name": "ipython",
    "version": 3
   },
   "file_extension": ".py",
   "mimetype": "text/x-python",
   "name": "python",
   "nbconvert_exporter": "python",
   "pygments_lexer": "ipython3",
   "version": "3.13.0"
  }
 },
 "nbformat": 4,
 "nbformat_minor": 2
}
